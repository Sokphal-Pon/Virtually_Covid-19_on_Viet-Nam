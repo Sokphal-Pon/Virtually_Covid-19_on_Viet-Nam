{
 "cells": [
  {
   "cell_type": "code",
   "execution_count": null,
   "id": "0361ef81",
   "metadata": {
    "scrolled": true
   },
   "outputs": [],
   "source": [
    "import numpy as np\n",
    "import pandas as pd\n",
    "import matplotlib.pyplot as plt\n",
    "import seaborn as sns\n",
    "import plotly.express as px\n",
    "from plotly.subplots import make_subplots\n",
    "import folium                               # for create map\n",
    "from folium.plugins import MarkerCluster\n",
    "\n",
    "from sklearn.model_selection import train_test_split # for predection\n",
    "from sklearn.linear_model import LinearRegression"
   ]
  },
  {
   "cell_type": "code",
   "execution_count": null,
   "id": "93f55780",
   "metadata": {},
   "outputs": [],
   "source": [
    "# Load the data\n",
    "\n",
    "locat_data = pd.read_csv(\"data/covid19-provinces_vn.csv\")"
   ]
  },
  {
   "cell_type": "code",
   "execution_count": null,
   "id": "7b8546c6",
   "metadata": {},
   "outputs": [],
   "source": [
    "# Display the first few rows of the data to understand its structure\n",
    "locat_data.head()"
   ]
  },
  {
   "cell_type": "code",
   "execution_count": null,
   "id": "f7bc4277",
   "metadata": {},
   "outputs": [],
   "source": [
    "# Data Cleaning\n",
    "\n",
    "# Check for any missing values\n",
    "print(locat_data.isnull().sum())    \n"
   ]
  },
  {
   "cell_type": "code",
   "execution_count": null,
   "id": "5350941f",
   "metadata": {},
   "outputs": [],
   "source": [
    "# Trop the table not use\n",
    "\n",
    "drop_table = ['HASC', 'ISO', 'FIPS', 'Administration Code']\n",
    "covid_df = locat_data.drop(columns=drop_table, errors='ignore')\n",
    "\n",
    "# Display the first few rows of the modified DataFrame to verify the columns are dropped\n",
    "print(covid_df.head())"
   ]
  },
  {
   "cell_type": "code",
   "execution_count": null,
   "id": "30388d29",
   "metadata": {},
   "outputs": [],
   "source": [
    "covid_df.describe()"
   ]
  },
  {
   "cell_type": "code",
   "execution_count": null,
   "id": "c68f79ea",
   "metadata": {},
   "outputs": [],
   "source": [
    "# describe info of data \n",
    "\n",
    "rounded_summary = covid_df.describe().round(decimals=0)\n",
    "rounded_summary = rounded_summary.astype(int)\n",
    "\n",
    "print(rounded_summary)\n"
   ]
  },
  {
   "cell_type": "code",
   "execution_count": null,
   "id": "712a5b18",
   "metadata": {},
   "outputs": [],
   "source": [
    "# exploration and Vitualization data Covid-19 on Vietnam"
   ]
  },
  {
   "cell_type": "code",
   "execution_count": null,
   "id": "21ffc0ad",
   "metadata": {},
   "outputs": [],
   "source": [
    "# province infected cases\n",
    "\n",
    "plt.figure(figsize=(14, 7))\n",
    "sns.barplot(x='Province', y='Infected', data = covid_df)\n",
    "plt.xticks(rotation=90)\n",
    "plt.title('Total Infected Cases by Province')\n",
    "plt.show()\n",
    "#print(covid_df[['Province', 'Infected']])\n"
   ]
  },
  {
   "cell_type": "code",
   "execution_count": null,
   "id": "678ba980",
   "metadata": {},
   "outputs": [],
   "source": [
    "# Top 3 infected provinces\n",
    "\n",
    "sorted_df = covid_df.sort_values(by='Infected', ascending=False)\n",
    "\n",
    "# Select the top 3 provinces\n",
    "top_3_provinces = sorted_df.head(3)\n",
    "\n",
    "# Calculate the average number of infected cases for the top 3 provinces\n",
    "average_infected_top_3 = top_3_provinces['Infected'].mean()\n",
    "\n",
    "# Display the data in a pie chart\n",
    "plt.figure(figsize=(10, 7))\n",
    "plt.pie(top_3_provinces['Infected'], labels=top_3_provinces['Province'], autopct='%1.1f%%', startangle=140)\n",
    "plt.title('Top 3 Provinces by Infected Cases')\n",
    "plt.show()\n",
    "\n",
    "# Print the average number of infected cases for the top 3 provinces\n",
    "print(\"Average number of infected cases for the top 3 provinces =\", int(average_infected_top_3))"
   ]
  },
  {
   "cell_type": "code",
   "execution_count": null,
   "id": "f6428861",
   "metadata": {},
   "outputs": [],
   "source": [
    "# active covid-19\n",
    "\n",
    "plt.figure(figsize=(14, 7))\n",
    "sns.barplot(x='Province', y='Active', data=covid_df)\n",
    "plt.xticks(rotation=90)\n",
    "plt.title('Active Cases by Province')\n",
    "plt.show()\n",
    "#print(covid_df[['Province', 'Active']])"
   ]
  },
  {
   "cell_type": "code",
   "execution_count": null,
   "id": "e374355a",
   "metadata": {},
   "outputs": [],
   "source": [
    "# Top 3 infected provinces\n",
    "\n",
    "active_df = covid_df.sort_values(by='Active', ascending=False)\n",
    "\n",
    "# Select the top 3 provinces\n",
    "top_3_provinces_active = active_df.head(3)\n",
    "\n",
    "# Calculate the average number of active cases for the top 3 provinces\n",
    "average_active_top_3 = top_3_provinces_active['Active'].mean()\n",
    "\n",
    "# Display the data in a pie chart\n",
    "plt.figure(figsize=(10, 7))\n",
    "plt.pie(top_3_provinces_active['Active'], labels=top_3_provinces_active['Province'], autopct='%1.1f%%', startangle=140)\n",
    "plt.title('Top 3 Provinces by Active Cases')\n",
    "plt.show()\n",
    "\n",
    "# Print the average number of active cases for the top 3 provinces\n",
    "print(\"Average number of active cases for the top 3 provinces =\", int(average_active_top_3))"
   ]
  },
  {
   "cell_type": "code",
   "execution_count": null,
   "id": "a0572940",
   "metadata": {},
   "outputs": [],
   "source": [
    "# recovered from covid-19 by province\n",
    "\n",
    "plt.figure(figsize=(14, 7))\n",
    "sns.barplot(x='Province', y='Recovered', data=covid_df)\n",
    "plt.xticks(rotation=90)\n",
    "plt.title('Recovered Cases by Province')\n",
    "plt.show()\n",
    "recovered = int(covid_df['Recovered'].mean())\n",
    "\n",
    "#print(\"Average number of recovered :\", recovered)\n"
   ]
  },
  {
   "cell_type": "code",
   "execution_count": null,
   "id": "ba15c20a",
   "metadata": {},
   "outputs": [],
   "source": [
    "covid_df['Recovered'] = pd.to_numeric(covid_df['Recovered'], errors='coerce')\n",
    "\n",
    "# Sort the provinces by the number of recovered cases in descending order\n",
    "sorted_df = covid_df.sort_values(by='Recovered', ascending=False)\n",
    "\n",
    "# Select the top 3 provinces\n",
    "top_3_provinces_recovered = sorted_df.head(3)\n",
    "\n",
    "# Calculate the average number of recovered cases for the top 3 provinces\n",
    "average_recovered_top_3 = top_3_provinces_recovered['Recovered'].mean()\n",
    "\n",
    "# Display the data in a pie chart\n",
    "plt.figure(figsize=(10, 7))\n",
    "plt.pie(top_3_provinces_recovered['Recovered'], labels=top_3_provinces_recovered['Province'], autopct='%1.1f%%', startangle=140)\n",
    "plt.title('Top 3 Provinces by Recovered Cases')\n",
    "plt.show()\n",
    "\n",
    "# Print the average number of recovered cases for the top 3 provinces\n",
    "print(\"Average number of recovered cases for the top 3 provinces =\", int(average_recovered_top_3))"
   ]
  },
  {
   "cell_type": "code",
   "execution_count": null,
   "id": "403dfa85",
   "metadata": {},
   "outputs": [],
   "source": [
    "# death by province\n",
    "\n",
    "plt.figure(figsize=(14, 7))\n",
    "sns.barplot(x='Province', y='Deaths', data=covid_df)\n",
    "plt.xticks(rotation=90)\n",
    "plt.title('Deaths by Province')\n",
    "plt.show()\n",
    "#print(covid_df[['Province', 'Deaths']])"
   ]
  },
  {
   "cell_type": "code",
   "execution_count": null,
   "id": "83207174",
   "metadata": {},
   "outputs": [],
   "source": [
    "# Top 3 death provinces in Vietnam\n",
    "\n",
    "covid_df['Deaths'] = pd.to_numeric(covid_df['Deaths'], errors='coerce')\n",
    "\n",
    "# Sort the provinces by the number of deaths in descending order\n",
    "sorted_df = covid_df.sort_values(by='Deaths', ascending=False)\n",
    "\n",
    "# Select the top 3 provinces\n",
    "top_3_provinces_deaths = sorted_df.head(3)\n",
    "\n",
    "# Calculate the average number of deaths for the top 3 provinces\n",
    "average_deaths_top_3 = top_3_provinces_deaths['Deaths'].mean()\n",
    "\n",
    "# Display the data in a pie chart\n",
    "plt.figure(figsize=(10, 7))\n",
    "plt.pie(top_3_provinces_deaths['Deaths'], labels=top_3_provinces_deaths['Province'], autopct='%1.1f%%', startangle=140)\n",
    "plt.title('Top 3 Provinces by Deaths')\n",
    "plt.show()\n",
    "\n",
    "# Print the average number of deaths for the top 3 provinces\n",
    "print(\"Average number of deaths for the top 3 provinces =\", int(average_deaths_top_3))"
   ]
  },
  {
   "cell_type": "code",
   "execution_count": null,
   "id": "237c3fbb",
   "metadata": {},
   "outputs": [],
   "source": [
    "#--------predictions-----------phong_don-----\n",
    "\n",
    "# Prepare the data\n",
    "X = covid_df[['Infected', 'Active', 'Recovered']].values\n",
    "y = covid_df['Deaths'].values\n",
    "\n",
    "# Split the data\n",
    "X_train, X_test, y_train, y_test = train_test_split(X, y, test_size=0.2, random_state=42)\n",
    "\n",
    "# Train the model\n",
    "model = LinearRegression()\n",
    "model.fit(X_train, y_train)\n",
    "\n",
    "# Make predictions\n",
    "predictions = model.predict(X_test)\n",
    "\n",
    "# Plot the results\n",
    "plt.figure(figsize=(10, 6))\n",
    "plt.scatter(y_test, predictions)\n",
    "plt.xlabel('True Values')\n",
    "plt.ylabel('Predictions')\n",
    "plt.title('True Values vs Predictions')\n",
    "plt.show()\n"
   ]
  },
  {
   "cell_type": "code",
   "execution_count": null,
   "id": "2037b239",
   "metadata": {},
   "outputs": [],
   "source": [
    "# Calculate Recovery and Death Rates: It calculates the recovery rate and death rate for each \n",
    "\n",
    "covid_df['Recovery Rate'] = covid_df['Recovered'] / covid_df['Infected'] * 100\n",
    "covid_df['Death Rate'] = covid_df['Deaths'] / covid_df['Infected'] * 100\n",
    "\n",
    "# Plot recovery rate\n",
    "plt.figure(figsize=(14, 7))\n",
    "sns.barplot(x='Province', y='Recovery Rate', data=covid_df)\n",
    "plt.xticks(rotation=90)\n",
    "plt.title('Recovery Rate by Province')\n",
    "plt.show()\n",
    "\n",
    "# Plot death rate\n",
    "plt.figure(figsize=(14, 7))\n",
    "sns.barplot(x='Province', y='Death Rate', data=covid_df)\n",
    "plt.xticks(rotation=90)\n",
    "plt.title('Death Rate by Province')\n",
    "plt.show()\n",
    "\n"
   ]
  },
  {
   "cell_type": "code",
   "execution_count": null,
   "id": "5f8850ef",
   "metadata": {},
   "outputs": [],
   "source": [
    "# Pie chart for the overall distribution of Active, Recovered, and Deaths\n",
    "\n",
    "total_active = covid_df['Active'].sum()\n",
    "total_recovered = covid_df['Recovered'].sum()\n",
    "total_deaths = covid_df['Deaths'].sum()\n",
    "\n",
    "plt.figure(figsize=(10, 6))\n",
    "plt.pie([total_active, total_recovered, total_deaths], labels=['Active', 'Recovered', 'Deaths'], autopct='%1.1f%%', startangle=140)\n",
    "plt.title('Overall Distribution of Cases')\n",
    "plt.show()"
   ]
  },
  {
   "cell_type": "code",
   "execution_count": null,
   "id": "29967224",
   "metadata": {},
   "outputs": [],
   "source": [
    "# Maping by province in Vietnam\n",
    "\n",
    "virtual_map = pd.DataFrame(covid_df)\n",
    "\n",
    "# Latitude and longitude data for each province in Vietnam\n",
    "latitude = [21.0285, 22.8235, 22.6667, 22.145, 21.8233, 22.3402, 21.3860, 22.3860, 21.3273, 21.7100, 20.8516, 21.5931, 21.7737, 20.9514, 21.2735, 21.4000, 21.3089, 21.0594, 20.9390, 20.8449, 20.6543, 20.4458, 20.5111, 20.4208, 20.25, 19.8075, 19.0824, 18.3451, 17.4689, 16.7406, 16.4550, 16.0544, 15.5394, 15.0806, 14.1667, 13.1891, 12.5674, 11.5753, 10.9956, 14.3507, 13.9836, 12.6670, 12.0072, 11.7501, 11.4808, 11.3525, 11.1767, 10.9457, 10.5417, 10.7629, 10.5364, 10.3688, 10.2431, 9.9313, 10.2564, 10.4712, 10.5216, 10.0120, 10.0371, 9.7878, 9.6033, 9.2941, 9.1830]\n",
    "longitude = [105.8542, 104.7740, 106.0246, 105.8311, 104.9656, 104.4130, 103.3092, 103.2105, 103.8378, 104.8915, 105.3333, 105.8443, 105.4982, 106.3331, 106.0025, 105.5000, 105.8875, 106.0760, 106.3166, 106.6881, 106.0560, 106.3413, 106.3330, 106.2044, 105.9739, 106.2528, 105.7031, 105.8871, 106.6223, 107.1851, 107.5512, 108.2022, 108.0195, 108.6341, 108.9022, 109.3195, 109.1881, 108.9256, 108.2591, 108.0000, 108.0000, 108.0359, 107.7597, 108.3750, 106.9212, 106.1111, 106.6680, 106.8024, 107.2420, 106.6822, 106.4052, 106.3877, 106.3757, 106.3396, 105.9655, 105.6368, 105.1259, 105.0809, 105.7882, 105.4701, 105.9804, 105.7244, 105.1500]\n",
    "\n",
    "# Create a map centered around Vietnam\n",
    "map = folium.Map(location=[16.0471, 108.2062], zoom_start=6)\n",
    "\n",
    "# Create a marker cluster\n",
    "marker_cluster = MarkerCluster().add_to(map)\n",
    "\n",
    "# Add markers to the map\n",
    "for lat, lon, province, infected, active, recovered, deaths in zip(latitude, longitude, covid_df['Province'], covid_df['Infected'], covid_df['Active'], covid_df['Recovered'], covid_df['Deaths']):\n",
    "    folium.Marker(\n",
    "        location=[lat, lon],\n",
    "        popup=f\"<strong>{province}</strong><br>Infected: {infected}<br>Active: {active}<br>Recovered: {recovered}<br>Deaths: {deaths}\",\n",
    "        tooltip=province\n",
    "    ).add_to(marker_cluster)\n",
    "\n",
    "# Display the map\n",
    "map\n"
   ]
  },
  {
   "cell_type": "code",
   "execution_count": null,
   "id": "5aa5206c",
   "metadata": {},
   "outputs": [],
   "source": [
    "# Save the cleaned data\n",
    "covid_df.to_csv('clan_data/cleaned_data.csv', index=False)"
   ]
  }
 ],
 "metadata": {
  "kernelspec": {
   "display_name": "Python 3 (ipykernel)",
   "language": "python",
   "name": "python3"
  },
  "language_info": {
   "codemirror_mode": {
    "name": "ipython",
    "version": 3
   },
   "file_extension": ".py",
   "mimetype": "text/x-python",
   "name": "python",
   "nbconvert_exporter": "python",
   "pygments_lexer": "ipython3",
   "version": "3.11.9"
  }
 },
 "nbformat": 4,
 "nbformat_minor": 5
}
